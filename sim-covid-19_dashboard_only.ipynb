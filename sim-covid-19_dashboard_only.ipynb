{
 "cells": [
  {
   "cell_type": "markdown",
   "metadata": {},
   "source": [
    "# COVID-19 Simulation\n",
    "\n",
    "This COVID-19 simulation was developed by [transentis consulting](https://www.transentis.com) from Berlin, based on the [SIR model](https://en.wikipedia.org/wiki/Compartmental_models_in_epidemiology#The_SIR_model).\n",
    "\n",
    "Please read the companion blog post [Covid 19 and the SIR Model](https://www.transentis.com/covid-19-sir-model/) for details. The simulation was built using the [BPTK-Py](https://bptk.transentis-labs.com) framework, the dasboard using [Voila](https://voila.readthedocs.io/en/stable/). You can find the complete source code on [GitHub](https://github.com/transentis/sim-covid-19). "
   ]
  },
  {
   "cell_type": "code",
   "execution_count": 1,
   "metadata": {},
   "outputs": [],
   "source": [
    "from BPTK_Py import Model\n",
    "from BPTK_Py import sd_functions as sd\n",
    "\n",
    "model = Model(starttime=1.0,stoptime=1500.0,dt=1.0,name='sir')\n",
    "\n",
    "susceptible = model.stock(\"S\")\n",
    "infectious = model.stock(\"I\")\n",
    "recovered = model.stock(\"R\")\n",
    "deaths = model.stock(\"D\")\n",
    "\n",
    "susceptible.initial_value = 80000000.0\n",
    "infectious.initial_value = 120.0\n",
    "recovered.initial_value = 0.0\n",
    "deaths.initial_value = 0.0\n",
    "\n",
    "infection_rate = model.flow(\"IR\")\n",
    "recovery_rate = model.flow(\"RR\")\n",
    "death_rate = model.flow(\"DR\")\n",
    "\n",
    "contact_rate = model.converter(\"c\")\n",
    "total_population = model.converter(\"TP\")\n",
    "net_population = model.converter(\"N\")\n",
    "intensive_needed = model.converter(\"needed\")\n",
    "intensive_rate = model.constant(\"irate\")\n",
    "infectivity = model.constant(\"i\")\n",
    "intensive_available = model.constant(\"available\")\n",
    "lethality = model.constant(\"L\")\n",
    "average_duration = model.constant(\"d\")\n",
    "\n",
    "susceptible.equation = -infection_rate\n",
    "infectious.equation = infection_rate - recovery_rate - death_rate\n",
    "recovered.equation = recovery_rate\n",
    "deaths.equation = death_rate\n",
    "\n",
    "infectivity.equation = 0.02\n",
    "intensive_rate.equation = 0.002\n",
    "intensive_available.equation = 30000.0\n",
    "lethality.equation = 0.001\n",
    "average_duration.equation = 20.0\n",
    "\n",
    "contact_rate.equation = 20.0 \n",
    "total_population.equation = susceptible+infectious+recovered\n",
    "net_population.equation = total_population-deaths\n",
    "intensive_needed.equation =infectious*intensive_rate\n",
    "\n",
    "infection_rate.equation = (contact_rate*susceptible*infectivity)*(infectious/total_population)\n",
    "recovery_rate.equation = infectious/average_duration\n",
    "death_rate.equation = infectious*lethality\n",
    "\n",
    "import BPTK_Py\n",
    "import pandas as pd\n",
    "bptk = BPTK_Py.bptk()\n",
    "bptk.register_model(model)\n",
    "\n",
    "bptk.register_scenarios(\n",
    "    scenarios ={\n",
    "        \"contactLargeGroups\": {},\n",
    "        \"contactSmallGroups\": {},\n",
    "        \"contactTwoPeople\": {},\n",
    "        \"interactiveScenario\":{}\n",
    "    },\n",
    "    scenario_manager=\"smSir\")"
   ]
  },
  {
   "cell_type": "code",
   "execution_count": 7,
   "metadata": {},
   "outputs": [
    {
     "data": {
      "application/vnd.jupyter.widget-view+json": {
       "model_id": "2f3d075bebf9486e924a1a4a7402681f",
       "version_major": 2,
       "version_minor": 0
      },
      "text/plain": [
       "Tab(children=(Output(), Output(), Output()), _titles={'0': 'Population', '1': 'Intensive Care', '2': 'Assumpti…"
      ]
     },
     "metadata": {},
     "output_type": "display_data"
    },
    {
     "data": {
      "application/vnd.jupyter.widget-view+json": {
       "model_id": "98920f4edacd4a1abb2e717f2fe71e26",
       "version_major": 2,
       "version_minor": 0
      },
      "text/plain": [
       "HBox(children=(FloatSlider(value=20.0, continuous_update=False, description='Contact Rate', layout=Layout(widt…"
      ]
     },
     "metadata": {},
     "output_type": "display_data"
    }
   ],
   "source": [
    "%run src/dashboard/sir_dashboard.ipy"
   ]
  },
  {
   "cell_type": "code",
   "execution_count": null,
   "metadata": {},
   "outputs": [],
   "source": []
  }
 ],
 "metadata": {
  "kernelspec": {
   "display_name": "Python 3",
   "language": "python",
   "name": "python3"
  },
  "language_info": {
   "codemirror_mode": {
    "name": "ipython",
    "version": 3
   },
   "file_extension": ".py",
   "mimetype": "text/x-python",
   "name": "python",
   "nbconvert_exporter": "python",
   "pygments_lexer": "ipython3",
   "version": "3.6.9"
  },
  "nteract": {
   "version": "0.22.4"
  }
 },
 "nbformat": 4,
 "nbformat_minor": 4
}
