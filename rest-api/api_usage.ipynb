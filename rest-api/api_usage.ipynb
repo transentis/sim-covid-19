{
 "cells": [
  {
   "cell_type": "markdown",
   "id": "blank-header",
   "metadata": {},
   "source": [
    "# REST API Examples"
   ]
  },
  {
   "cell_type": "markdown",
   "id": "therapeutic-courage",
   "metadata": {},
   "source": [
    "Here are some examples that illustrate how to use the BPTK REST API (you need to start the demonstration server from a console by running the `run_server.sh` script in this directory. The server should then be running on port 5000.\n",
    "\n",
    "There is a companion repository on [Github](https://github.com/transentis/sim-covid-dashboard) that contains the source code for a web-based dashboard that uses the COVID-Simulation via the REST API. The dashboard was built using React and [BPTK-Widgets](http://bptk.transentis.com). You can test the dashboard live on [www.covid-sim.com](http://www.covid-sim.com)"
   ]
  },
  {
   "cell_type": "code",
   "execution_count": 1,
   "id": "meaning-immunology",
   "metadata": {},
   "outputs": [],
   "source": [
    "# find documentation for the requests library on https://docs.python-requests.org/\n",
    "import requests\n",
    "import json"
   ]
  },
  {
   "cell_type": "markdown",
   "id": "random-being",
   "metadata": {},
   "source": [
    "Get a list of scenarios that the server knows about:"
   ]
  },
  {
   "cell_type": "code",
   "execution_count": 4,
   "id": "greenhouse-edward",
   "metadata": {},
   "outputs": [],
   "source": [
    "response = requests.get(\"http://localhost:5000/scenarios\")"
   ]
  },
  {
   "cell_type": "code",
   "execution_count": 37,
   "id": "protecting-jackson",
   "metadata": {},
   "outputs": [
    {
     "data": {
      "text/plain": [
       "<Response [200]>"
      ]
     },
     "execution_count": 37,
     "metadata": {},
     "output_type": "execute_result"
    }
   ],
   "source": [
    "response"
   ]
  },
  {
   "cell_type": "code",
   "execution_count": 5,
   "id": "defensive-sleeping",
   "metadata": {},
   "outputs": [
    {
     "data": {
      "text/plain": [
       "['base',\n",
       " 'dashboard',\n",
       " 'avoid_the_peak',\n",
       " 'strong_social_distancing',\n",
       " 'weak_social_distancing']"
      ]
     },
     "execution_count": 5,
     "metadata": {},
     "output_type": "execute_result"
    }
   ],
   "source": [
    "response.json()"
   ]
  },
  {
   "cell_type": "markdown",
   "id": "employed-society",
   "metadata": {},
   "source": [
    "Get the equations known to the dashboard scenario:"
   ]
  },
  {
   "cell_type": "code",
   "execution_count": 6,
   "id": "imported-alcohol",
   "metadata": {},
   "outputs": [],
   "source": [
    "response = requests.post(\n",
    "    url=\"http://localhost:5000/equations\",\n",
    "    json = {\n",
    "    \"scenarioManager\": \"smSir\",\n",
    "    \"scenario\":\"dashboard\"\n",
    "}\n",
    ")"
   ]
  },
  {
   "cell_type": "code",
   "execution_count": 32,
   "id": "terminal-breathing",
   "metadata": {},
   "outputs": [
    {
     "data": {
      "text/plain": [
       "<Response [200]>"
      ]
     },
     "execution_count": 32,
     "metadata": {},
     "output_type": "execute_result"
    }
   ],
   "source": [
    "response"
   ]
  },
  {
   "cell_type": "code",
   "execution_count": 7,
   "id": "peaceful-allen",
   "metadata": {},
   "outputs": [
    {
     "data": {
      "text/plain": [
       "{'constants': ['duration',\n",
       "  'infectivity',\n",
       "  'lethality',\n",
       "  'intensive_available',\n",
       "  'intensive_percentage'],\n",
       " 'converters': ['contact_number',\n",
       "  'reproduction_rate',\n",
       "  'total_population',\n",
       "  'contact_rate',\n",
       "  'intensive_needed'],\n",
       " 'flows': ['infection_rate', 'recovery_rate', 'death_rate'],\n",
       " 'points': ['contact_rate_table'],\n",
       " 'stocks': ['deceased', 'susceptible', 'infectious', 'recovered']}"
      ]
     },
     "execution_count": 7,
     "metadata": {},
     "output_type": "execute_result"
    }
   ],
   "source": [
    "response.json()"
   ]
  },
  {
   "cell_type": "markdown",
   "id": "optional-attempt",
   "metadata": {},
   "source": [
    "Get some data for a scenario and some equations:"
   ]
  },
  {
   "cell_type": "code",
   "execution_count": 8,
   "id": "meaning-cabinet",
   "metadata": {},
   "outputs": [],
   "source": [
    "response = requests.post(\n",
    "    url=\"http://localhost:5000/run\",\n",
    "    json = {\n",
    "    \"scenario_managers\": [\n",
    "        \"smSir\"\n",
    "    ],\n",
    "    \"scenarios\": [\n",
    "        \"strong_social_distancing\"\n",
    "    ],\n",
    "    \"equations\": [\n",
    "        \"recovered\",\n",
    "        \"infectious\"\n",
    "    ]\n",
    "}\n",
    ")"
   ]
  },
  {
   "cell_type": "code",
   "execution_count": 9,
   "id": "statutory-chaos",
   "metadata": {},
   "outputs": [],
   "source": [
    "import pandas as pd"
   ]
  },
  {
   "cell_type": "code",
   "execution_count": 11,
   "id": "dynamic-aquatic",
   "metadata": {},
   "outputs": [],
   "source": [
    "df=pd.DataFrame.from_dict(response.json())"
   ]
  },
  {
   "cell_type": "code",
   "execution_count": 12,
   "id": "immediate-globe",
   "metadata": {},
   "outputs": [
    {
     "data": {
      "text/html": [
       "<div>\n",
       "<style scoped>\n",
       "    .dataframe tbody tr th:only-of-type {\n",
       "        vertical-align: middle;\n",
       "    }\n",
       "\n",
       "    .dataframe tbody tr th {\n",
       "        vertical-align: top;\n",
       "    }\n",
       "\n",
       "    .dataframe thead th {\n",
       "        text-align: right;\n",
       "    }\n",
       "</style>\n",
       "<table border=\"1\" class=\"dataframe\">\n",
       "  <thead>\n",
       "    <tr style=\"text-align: right;\">\n",
       "      <th></th>\n",
       "      <th>recovered</th>\n",
       "      <th>infectious</th>\n",
       "    </tr>\n",
       "  </thead>\n",
       "  <tbody>\n",
       "    <tr>\n",
       "      <th>1.0</th>\n",
       "      <td>0.000000e+00</td>\n",
       "      <td>120.000000</td>\n",
       "    </tr>\n",
       "    <tr>\n",
       "      <th>2.0</th>\n",
       "      <td>6.000000e+00</td>\n",
       "      <td>157.559934</td>\n",
       "    </tr>\n",
       "    <tr>\n",
       "      <th>3.0</th>\n",
       "      <td>1.387800e+01</td>\n",
       "      <td>201.203931</td>\n",
       "    </tr>\n",
       "    <tr>\n",
       "      <th>4.0</th>\n",
       "      <td>2.393819e+01</td>\n",
       "      <td>249.693920</td>\n",
       "    </tr>\n",
       "    <tr>\n",
       "      <th>5.0</th>\n",
       "      <td>3.642289e+01</td>\n",
       "      <td>300.880955</td>\n",
       "    </tr>\n",
       "    <tr>\n",
       "      <th>...</th>\n",
       "      <td>...</td>\n",
       "      <td>...</td>\n",
       "    </tr>\n",
       "    <tr>\n",
       "      <th>1496.0</th>\n",
       "      <td>7.841640e+07</td>\n",
       "      <td>977.451290</td>\n",
       "    </tr>\n",
       "    <tr>\n",
       "      <th>1497.0</th>\n",
       "      <td>7.841645e+07</td>\n",
       "      <td>927.673112</td>\n",
       "    </tr>\n",
       "    <tr>\n",
       "      <th>1498.0</th>\n",
       "      <td>7.841650e+07</td>\n",
       "      <td>880.429961</td>\n",
       "    </tr>\n",
       "    <tr>\n",
       "      <th>1499.0</th>\n",
       "      <td>7.841654e+07</td>\n",
       "      <td>835.592739</td>\n",
       "    </tr>\n",
       "    <tr>\n",
       "      <th>1500.0</th>\n",
       "      <td>7.841658e+07</td>\n",
       "      <td>793.038920</td>\n",
       "    </tr>\n",
       "  </tbody>\n",
       "</table>\n",
       "<p>1500 rows × 2 columns</p>\n",
       "</div>"
      ],
      "text/plain": [
       "           recovered  infectious\n",
       "1.0     0.000000e+00  120.000000\n",
       "2.0     6.000000e+00  157.559934\n",
       "3.0     1.387800e+01  201.203931\n",
       "4.0     2.393819e+01  249.693920\n",
       "5.0     3.642289e+01  300.880955\n",
       "...              ...         ...\n",
       "1496.0  7.841640e+07  977.451290\n",
       "1497.0  7.841645e+07  927.673112\n",
       "1498.0  7.841650e+07  880.429961\n",
       "1499.0  7.841654e+07  835.592739\n",
       "1500.0  7.841658e+07  793.038920\n",
       "\n",
       "[1500 rows x 2 columns]"
      ]
     },
     "execution_count": 12,
     "metadata": {},
     "output_type": "execute_result"
    }
   ],
   "source": [
    "df"
   ]
  },
  {
   "cell_type": "code",
   "execution_count": 13,
   "id": "caroline-microphone",
   "metadata": {},
   "outputs": [
    {
     "data": {
      "text/plain": [
       "<AxesSubplot:>"
      ]
     },
     "execution_count": 13,
     "metadata": {},
     "output_type": "execute_result"
    },
    {
     "data": {
      "image/png": "[encoded data removed]",
      "text/plain": [
       "<Figure size 432x288 with 1 Axes>"
      ]
     },
     "metadata": {
      "needs_background": "light"
     },
     "output_type": "display_data"
    }
   ],
   "source": [
    "df.plot()"
   ]
  },
  {
   "cell_type": "code",
   "execution_count": null,
   "id": "ethical-tobago",
   "metadata": {},
   "outputs": [],
   "source": []
  }
 ],
 "metadata": {
  "kernelspec": {
   "display_name": "Python 3",
   "language": "python",
   "name": "python3"
  },
  "language_info": {
   "codemirror_mode": {
    "name": "ipython",
    "version": 3
   },
   "file_extension": ".py",
   "mimetype": "text/x-python",
   "name": "python",
   "nbconvert_exporter": "python",
   "pygments_lexer": "ipython3",
   "version": "3.9.5"
  }
 },
 "nbformat": 4,
 "nbformat_minor": 5
}
